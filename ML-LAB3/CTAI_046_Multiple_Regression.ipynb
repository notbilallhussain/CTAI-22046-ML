{
  "nbformat": 4,
  "nbformat_minor": 0,
  "metadata": {
    "colab": {
      "provenance": []
    },
    "kernelspec": {
      "name": "python3",
      "display_name": "Python 3"
    },
    "language_info": {
      "name": "python"
    }
  },
  "cells": [
    {
      "cell_type": "code",
      "execution_count": 5,
      "metadata": {
        "id": "444jI4BOIPOO"
      },
      "outputs": [],
      "source": [
        "import pandas as pd\n",
        "import numpy as np\n",
        "import matplotlib.pyplot as plt"
      ]
    },
    {
      "cell_type": "code",
      "source": [
        "#load dataset\n",
        "dataset_path = \"Regression_Dataset.csv\"\n",
        "data = pd.read_csv(dataset_path)"
      ],
      "metadata": {
        "id": "4Qli9zIlKvP2"
      },
      "execution_count": 6,
      "outputs": []
    },
    {
      "cell_type": "code",
      "source": [
        "X = data[[\"Machine_Weight_kg\", \"Machine_Age_years\", \"Maintenance_Score\"]].values  # Features\n",
        "y = data[\"Rental_Price_per_Hour\"].values  # Target"
      ],
      "metadata": {
        "id": "juj3yWNnK1Td"
      },
      "execution_count": 7,
      "outputs": []
    },
    {
      "cell_type": "code",
      "source": [
        "# Normalizing\n",
        "X = (X - X.mean(axis=0)) / X.std(axis=0)\n",
        "\n",
        "# bias term (x0 = 1)\n",
        "X = np.c_[np.ones(X.shape[0]), X]\n",
        "\n",
        "\n",
        "theta = np.zeros(X.shape[1])  # Initialize thetas with zeros\n",
        "alpha = 0.01  # Learning rate\n",
        "iterations = 1000  # Number of gradient descent steps\n",
        "m = len(y)  # Number of samples"
      ],
      "metadata": {
        "id": "Bpqcv00PLFes"
      },
      "execution_count": 8,
      "outputs": []
    },
    {
      "cell_type": "markdown",
      "source": [
        "# Cost function (Mean Squared Error)"
      ],
      "metadata": {
        "id": "0PV47VxIL3yM"
      }
    },
    {
      "cell_type": "code",
      "source": [
        "def compute_cost(X, y, theta):\n",
        "    predictions = X @ theta\n",
        "    error = predictions - y\n",
        "    cost = (1 / (2 * m)) * np.sum(error ** 2)  # Mean Squared Error\n",
        "    return cost"
      ],
      "metadata": {
        "id": "XCyaF6mlLIWI"
      },
      "execution_count": 9,
      "outputs": []
    },
    {
      "cell_type": "markdown",
      "source": [
        "# Gradient Descent function"
      ],
      "metadata": {
        "id": "-C8CCcZmL6Uw"
      }
    },
    {
      "cell_type": "code",
      "source": [
        "def gradient_descent(X, y, theta, alpha, iterations):\n",
        "    cost_history = []\n",
        "\n",
        "    for _ in range(iterations):\n",
        "        predictions = X @ theta  # Compute hypothesis\n",
        "        error = predictions - y  # Compute errors\n",
        "        gradient = (1 / m) * (X.T @ error)  # Compute gradient\n",
        "        theta -= alpha * gradient  # Update parameters\n",
        "        cost_history.append(compute_cost(X, y, theta))  # Track cost over iterations\n",
        "\n",
        "    return theta, cost_history"
      ],
      "metadata": {
        "id": "ROJ_N0eBLKl3"
      },
      "execution_count": 10,
      "outputs": []
    },
    {
      "cell_type": "markdown",
      "source": [
        "Running Gradient Descent"
      ],
      "metadata": {
        "id": "xmcC3SD4L9hk"
      }
    },
    {
      "cell_type": "code",
      "source": [
        "theta_final, cost_history = gradient_descent(X, y, theta, alpha, iterations)\n",
        "\n",
        "# Print final optimized parameters\n",
        "print(\"\\nOptimized Parameters after Gradient Descent:\")\n",
        "print(f\"Intercept (θ₀): {theta_final[0]}\")\n",
        "print(f\"Weight Coefficient (θ₁): {theta_final[1]}\")\n",
        "print(f\"Age Coefficient (θ₂): {theta_final[2]}\")\n",
        "print(f\"Maintenance Coefficient (θ₃): {theta_final[3]}\")"
      ],
      "metadata": {
        "colab": {
          "base_uri": "https://localhost:8080/"
        },
        "id": "GhkRN6NALNyI",
        "outputId": "d809962f-0719-4eba-810c-ae3c1d6aa81b"
      },
      "execution_count": 11,
      "outputs": [
        {
          "output_type": "stream",
          "name": "stdout",
          "text": [
            "\n",
            "Optimized Parameters after Gradient Descent:\n",
            "Intercept (θ₀): 228.29434774612747\n",
            "Weight Coefficient (θ₁): 82.37555422664681\n",
            "Age Coefficient (θ₂): -20.732189162442985\n",
            "Maintenance Coefficient (θ₃): 25.816966980242082\n"
          ]
        }
      ]
    },
    {
      "cell_type": "markdown",
      "source": [
        "Plotting"
      ],
      "metadata": {
        "id": "pDXvIZvFMFIm"
      }
    },
    {
      "cell_type": "code",
      "source": [
        "plt.plot(range(iterations), cost_history, color='blue')\n",
        "plt.xlabel(\"Iterations\")\n",
        "plt.ylabel(\"Cost Function (MSE)\")\n",
        "plt.title(\"Gradient Descent Convergence for Multiple Linear Regression\")\n",
        "plt.show()"
      ],
      "metadata": {
        "colab": {
          "base_uri": "https://localhost:8080/",
          "height": 472
        },
        "id": "Y7NYn2ciLRA6",
        "outputId": "6e6b6e01-e63d-4f41-cbd4-2d96cdbdcea8"
      },
      "execution_count": 12,
      "outputs": [
        {
          "output_type": "display_data",
          "data": {
            "text/plain": [
              "<Figure size 640x480 with 1 Axes>"
            ],
            "image/png": "[encoded data removed]"
          },
          "metadata": {}
        }
      ]
    }
  ]
}